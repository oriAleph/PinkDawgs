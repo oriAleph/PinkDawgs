{
  "nbformat": 4,
  "nbformat_minor": 0,
  "metadata": {
    "colab": {
      "provenance": []
    },
    "kernelspec": {
      "name": "python3",
      "display_name": "Python 3"
    },
    "language_info": {
      "name": "python"
    }
  },
  "cells": [
    {
      "cell_type": "markdown",
      "source": [
        "## [ImageClassifier API - Run inference in Python: ](https://www.tensorflow.org/lite/inference_with_metadata/task_library/image_classifier#run_inference_in_python)"
      ],
      "metadata": {
        "id": "JTpHC-2IWZd6"
      }
    },
    {
      "cell_type": "code",
      "source": [
        "!pip install tflite-support"
      ],
      "metadata": {
        "colab": {
          "base_uri": "https://localhost:8080/"
        },
        "id": "JSyPQ78vWVvD",
        "outputId": "e9613f32-178f-4103-c491-9b6baedfaed4"
      },
      "execution_count": 2,
      "outputs": [
        {
          "output_type": "stream",
          "name": "stdout",
          "text": [
            "Looking in indexes: https://pypi.org/simple, https://us-python.pkg.dev/colab-wheels/public/simple/\n",
            "Collecting tflite-support\n",
            "  Downloading tflite_support-0.4.3-cp39-cp39-manylinux2014_x86_64.whl (60.9 MB)\n",
            "\u001b[2K     \u001b[90m━━━━━━━━━━━━━━━━━━━━━━━━━━━━━━━━━━━━━━━━\u001b[0m \u001b[32m60.9/60.9 MB\u001b[0m \u001b[31m9.4 MB/s\u001b[0m eta \u001b[36m0:00:00\u001b[0m\n",
            "\u001b[?25hCollecting pybind11>=2.6.0\n",
            "  Downloading pybind11-2.10.4-py3-none-any.whl (222 kB)\n",
            "\u001b[2K     \u001b[90m━━━━━━━━━━━━━━━━━━━━━━━━━━━━━━━━━━━━━━━\u001b[0m \u001b[32m222.3/222.3 kB\u001b[0m \u001b[31m5.2 MB/s\u001b[0m eta \u001b[36m0:00:00\u001b[0m\n",
            "\u001b[?25hRequirement already satisfied: numpy>=1.20.0 in /usr/local/lib/python3.9/dist-packages (from tflite-support) (1.22.4)\n",
            "Collecting sounddevice>=0.4.4\n",
            "  Downloading sounddevice-0.4.6-py3-none-any.whl (31 kB)\n",
            "Requirement already satisfied: flatbuffers>=2.0 in /usr/local/lib/python3.9/dist-packages (from tflite-support) (23.3.3)\n",
            "Requirement already satisfied: protobuf<4,>=3.18.0 in /usr/local/lib/python3.9/dist-packages (from tflite-support) (3.20.3)\n",
            "Requirement already satisfied: absl-py>=0.7.0 in /usr/local/lib/python3.9/dist-packages (from tflite-support) (1.4.0)\n",
            "Requirement already satisfied: CFFI>=1.0 in /usr/local/lib/python3.9/dist-packages (from sounddevice>=0.4.4->tflite-support) (1.15.1)\n",
            "Requirement already satisfied: pycparser in /usr/local/lib/python3.9/dist-packages (from CFFI>=1.0->sounddevice>=0.4.4->tflite-support) (2.21)\n",
            "Installing collected packages: pybind11, sounddevice, tflite-support\n",
            "Successfully installed pybind11-2.10.4 sounddevice-0.4.6 tflite-support-0.4.3\n"
          ]
        }
      ]
    },
    {
      "cell_type": "markdown",
      "source": [
        "Mount Google Drive"
      ],
      "metadata": {
        "id": "2gCHcwkcrs1Y"
      }
    },
    {
      "cell_type": "code",
      "source": [
        "from google.colab import drive\n",
        "drive.mount('/content/drive')"
      ],
      "metadata": {
        "colab": {
          "base_uri": "https://localhost:8080/"
        },
        "id": "AXPCQgYQrtwP",
        "outputId": "629df46e-0d4e-48c9-ef5e-ff2ec4a6d730"
      },
      "execution_count": 3,
      "outputs": [
        {
          "output_type": "stream",
          "name": "stdout",
          "text": [
            "Mounted at /content/drive\n"
          ]
        }
      ]
    },
    {
      "cell_type": "markdown",
      "source": [
        "Check the working directory and change it accordingly"
      ],
      "metadata": {
        "id": "5HwjcQF9ry5P"
      }
    },
    {
      "cell_type": "code",
      "source": [
        "!pwd"
      ],
      "metadata": {
        "colab": {
          "base_uri": "https://localhost:8080/"
        },
        "id": "l3Vto8r1r2FJ",
        "outputId": "8ec50c5b-aad8-4c7a-aa80-176b5a5067b6"
      },
      "execution_count": 4,
      "outputs": [
        {
          "output_type": "stream",
          "name": "stdout",
          "text": [
            "/content\n"
          ]
        }
      ]
    },
    {
      "cell_type": "code",
      "source": [
        "%cd drive/MyDrive/LEGO/"
      ],
      "metadata": {
        "colab": {
          "base_uri": "https://localhost:8080/"
        },
        "id": "05yOP0CXr3L0",
        "outputId": "a63ffe3a-133e-4b14-d9b8-3c1e21ba5382"
      },
      "execution_count": 5,
      "outputs": [
        {
          "output_type": "stream",
          "name": "stdout",
          "text": [
            "/content/drive/MyDrive/LEGO\n"
          ]
        }
      ]
    },
    {
      "cell_type": "code",
      "source": [
        "# Imports\n",
        "from tflite_support.task import vision\n",
        "from tflite_support.task import core\n",
        "from tflite_support.task import processor\n",
        "\n",
        "model_path = 'model8.tflite'\n",
        "image_path = 'test1.jpeg'\n",
        "\n",
        "# Initialization\n",
        "base_options = core.BaseOptions(file_name=model_path)\n",
        "classification_options = processor.ClassificationOptions(max_results=2)\n",
        "options = vision.ImageClassifierOptions(base_options=base_options, classification_options=classification_options)\n",
        "classifier = vision.ImageClassifier.create_from_options(options)\n",
        "\n",
        "# Alternatively, you can create an image classifier in the following manner:\n",
        "# classifier = vision.ImageClassifier.create_from_file(model_path)\n",
        "\n",
        "# Run inference\n",
        "image = vision.TensorImage.create_from_file(image_path)\n",
        "classification_result = classifier.classify(image)\n",
        "\n",
        "print(classification_result)"
      ],
      "metadata": {
        "colab": {
          "base_uri": "https://localhost:8080/"
        },
        "id": "ip9v7xNwWjmr",
        "outputId": "ba60d4e6-a607-4ddf-8526-853bd5a9d235"
      },
      "execution_count": 6,
      "outputs": [
        {
          "output_type": "stream",
          "name": "stdout",
          "text": [
            "ClassificationResult(classifications=[Classifications(categories=[Category(index=11, score=0.828125, display_name='', category_name='3024'), Category(index=2, score=0.1015625, display_name='', category_name='3003')], head_index=0, head_name='')])\n"
          ]
        }
      ]
    }
  ]
}